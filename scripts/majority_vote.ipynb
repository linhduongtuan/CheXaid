{
 "cells": [
  {
   "cell_type": "code",
   "execution_count": 67,
   "metadata": {},
   "outputs": [],
   "source": [
    "import pandas as pd\n",
    "rads = ['ml', 'bp', 'js']\n",
    "csvs = []\n",
    "for rad in rads:\n",
    "    csvs.append(pd.read_csv('image_valid_' + str(rad) + '.csv'))\n",
    "\n",
    "\n",
    "majority_vote = csvs[0]\n",
    "# print(majority_vote)\n",
    "# majority_vote.index = majority_vote['Study #']\n",
    "# print(majority_vote.index)\n",
    "# print(majority_vote)\n",
    "for i in range(majority_vote.shape[0]):    \n",
    "    majority_vote.loc[i, :] = round((csvs[0].loc[i, :] + csvs[1].loc[i, :] + csvs[2].loc[i, :])/3)\n",
    "\n",
    "majority_vote.to_csv('validation.csv', index=False)\n"
   ]
  },
  {
   "cell_type": "code",
   "execution_count": null,
   "metadata": {},
   "outputs": [],
   "source": []
  }
 ],
 "metadata": {
  "kernelspec": {
   "display_name": "Python 3",
   "language": "python",
   "name": "python3"
  },
  "language_info": {
   "codemirror_mode": {
    "name": "ipython",
    "version": 3
   },
   "file_extension": ".py",
   "mimetype": "text/x-python",
   "name": "python",
   "nbconvert_exporter": "python",
   "pygments_lexer": "ipython3",
   "version": "3.6.4"
  }
 },
 "nbformat": 4,
 "nbformat_minor": 2
}
